{
 "cells": [
  {
   "cell_type": "code",
   "execution_count": 1,
   "metadata": {},
   "outputs": [],
   "source": [
    "from openpyxl import Workbook\n",
    "import random\n",
    "import string\n",
    "import bs4 as bs\n",
    "from bs4 import BeautifulSoup\n",
    "import requests\n",
    "import urllib.request\n",
    "wb = Workbook()"
   ]
  },
  {
   "cell_type": "code",
   "execution_count": 2,
   "metadata": {},
   "outputs": [],
   "source": [
    "gielda = wb.create_sheet(\"Gielda\",0)\n",
    "linki = wb.create_sheet(\"Linki\",1)\n",
    "filmweb = wb.create_sheet(\"Filmweb\",2)\n"
   ]
  },
  {
   "cell_type": "code",
   "execution_count": null,
   "metadata": {
    "scrolled": true
   },
   "outputs": [
    {
     "name": "stdout",
     "output_type": "stream",
     "text": [
      "Nie dodano do listy\n",
      "Nie dodano do listy\n",
      "Nie dodano do listy\n",
      "Nie dodano do listy\n",
      "Nie dodano do listy\n",
      "Nie dodano do listy\n",
      "Nie dodano do listy\n",
      "Nie dodano do listy\n",
      "Nie dodano do listy\n",
      "Nie dodano do listy\n",
      "Nie dodano do listy\n",
      "Nie dodano do listy\n",
      "Nie dodano do listy\n",
      "Nie dodano do listy\n",
      "Nie dodano do listy\n",
      "Nie dodano do listy\n",
      "Nie dodano do listy\n",
      "Nie dodano do listy\n",
      "Nie dodano do listy\n",
      "Nie dodano do listy\n",
      "Nie dodano do listy\n",
      "Nie dodano do listy\n",
      "Nie dodano do listy\n",
      "Nie dodano do listy\n",
      "Nie dodano do listy\n",
      "Nie dodano do listy\n",
      "Nie dodano do listy\n",
      "Nie dodano do listy\n",
      "Nie dodano do listy\n",
      "Nie dodano do listy\n",
      "Nie dodano do listy\n",
      "Nie dodano do listy\n",
      "Nie dodano do listy\n",
      "Nie dodano do listy\n",
      "Nie dodano do listy\n",
      "Nie dodano do listy\n",
      "Nie dodano do listy\n",
      "Nie dodano do listy\n",
      "Nie dodano do listy\n",
      "Nie dodano do listy\n",
      "Nie dodano do listy\n",
      "Nie dodano do listy\n",
      "Nie dodano do listy\n",
      "Nie dodano do listy\n",
      "Nie dodano do listy\n",
      "Nie dodano do listy\n",
      "Nie dodano do listy\n",
      "Nie dodano do listy\n",
      "Nie dodano do listy\n",
      "Nie dodano do listy\n",
      "Nie dodano do listy\n",
      "Nie dodano do listy\n",
      "Nie dodano do listy\n",
      "Nie dodano do listy\n",
      "Nie dodano do listy\n",
      "Nie dodano do listy\n",
      "Nie dodano do listy\n",
      "Nie dodano do listy\n",
      "Nie dodano do listy\n",
      "Nie dodano do listy\n",
      "Nie dodano do listy\n",
      "Nie dodano do listy\n",
      "Nie dodano do listy\n",
      "Nie dodano do listy\n",
      "Nie dodano do listy\n",
      "Nie dodano do listy\n",
      "Nie dodano do listy\n",
      "Nie dodano do listy\n",
      "Nie dodano do listy\n",
      "Nie dodano do listy\n",
      "Nie dodano do listy\n",
      "Nie dodano do listy\n",
      "Nie dodano do listy\n",
      "Nie dodano do listy\n",
      "Nie dodano do listy\n"
     ]
    }
   ],
   "source": [
    "stworzone_kody = []\n",
    "def stworz_kod(dlugosc_kodu=3):\n",
    "    znaki = string.ascii_lowercase\n",
    "    check = ''.join(random.choice(znaki) for i in range(dlugosc_kodu))\n",
    "    p = {\"s\": check}\n",
    "    response = requests.get(\"http://stooq.pl/q/\", params=p)\n",
    "    soup = BeautifulSoup(response.text, 'html.parser')\n",
    "    flag = soup.find(text=\"Kurs\")\n",
    "    if flag:\n",
    "        stworzone_kody.append(check)\n",
    "        print('Dodano do listy',check)\n",
    "    else:\n",
    "        print(\"Nie dodano do listy\")\n",
    "        \n",
    "while len(stworzone_kody) < 5:\n",
    "    stworz_kod()\n",
    "\n",
    "print(stworzone_kody)\n"
   ]
  },
  {
   "cell_type": "code",
   "execution_count": null,
   "metadata": {},
   "outputs": [],
   "source": [
    "# params_list = ['cdr','asb','hbg','ida','oat']\n",
    "params_list = ['mmc', 'wis', 'hef', 'bdl', 'ctf']\n",
    "gielda.cell(row=1,column=1).value = 'Firma'\n",
    "gielda.cell(row=1,column=2).value = 'Kurs'\n",
    "gielda.cell(row=1,column=3).value = 'Zmiana'\n",
    "gielda.cell(row=1,column=4).value = 'Transakcje'\n",
    "i = 2\n",
    "for param in params_list:\n",
    "    p = {\"s\": param}\n",
    "    response = requests.get(\"https://stooq.pl/q/\",params=p)\n",
    "    soup = BeautifulSoup(response.text, 'html.parser')\n",
    "    gielda.cell(row=i,column=1).value = params_list[i-2]\n",
    "    gielda.cell(row=i,column=2).value = soup.find(text=\"Kurs\").parent.find(\"span\").text\n",
    "    gielda.cell(row=i,column=3).value = soup.find(text=\"Zmiana\").parent.find(\"span\").text\n",
    "    gielda.cell(row=i,column=4).value = soup.find(text=\"Transakcje\").parent.find(\"span\").text\n",
    "    \n",
    "    i+=1\n"
   ]
  },
  {
   "cell_type": "code",
   "execution_count": 3,
   "metadata": {},
   "outputs": [],
   "source": [
    "#linki \n",
    "response = requests.get(\"https://automatetheboringstuff.com/\")\n",
    "soup = BeautifulSoup(response.text, 'html.parser')\n",
    "links_list = []\n",
    "for a in soup.find_all(\"a\"):\n",
    "    links_list.append(a.get('href'))\n",
    "\n",
    "i = 1\n",
    "for l in links_list:\n",
    "    if l == None:\n",
    "        continue\n",
    "    elif l.startswith('/'):\n",
    "        continue\n",
    "    else:\n",
    "        linki.cell(row=i,column=1).value = l\n",
    "        i+=1\n",
    "       \n"
   ]
  },
  {
   "cell_type": "code",
   "execution_count": 4,
   "metadata": {},
   "outputs": [],
   "source": [
    "#filmweb\n",
    "response = requests.get(\"https://www.filmweb.pl/film/Skyfall-2012-451244\")\n",
    "soup = BeautifulSoup(response.content, 'html.parser')\n",
    "\n",
    "filmweb.cell(row=1,column=1).value = 'Rezyser'\n",
    "filmweb.cell(row=2,column=1).value = 'Premiera'\n",
    "filmweb.cell(row=3,column=1).value = 'Boxoffice'\n",
    "filmweb.cell(row=4,column=1).value = 'Ocena'\n",
    "filmweb.cell(row=1,column=2).value = soup.find(text=\"reżyseria:\").next_element.find(\"a\").text\n",
    "filmweb.cell(row=2,column=2).value = soup.find(text=\"premiera:\").next_element.find(\"a\").text\n",
    "boxoffice = soup.find(text=\"boxoffice:\").next_element.text\n",
    "filmweb.cell(row=3,column=2).value = boxoffice.replace('top #27','')\n",
    "filmweb.cell(row=4,column=2).value = soup.find('div',id='sidebar').find('span').text\n"
   ]
  },
  {
   "cell_type": "code",
   "execution_count": 5,
   "metadata": {},
   "outputs": [],
   "source": [
    "wb.save('sokol-165ic.xlsx')"
   ]
  },
  {
   "cell_type": "code",
   "execution_count": null,
   "metadata": {},
   "outputs": [],
   "source": []
  }
 ],
 "metadata": {
  "kernelspec": {
   "display_name": "Python 3",
   "language": "python",
   "name": "python3"
  },
  "language_info": {
   "codemirror_mode": {
    "name": "ipython",
    "version": 3
   },
   "file_extension": ".py",
   "mimetype": "text/x-python",
   "name": "python",
   "nbconvert_exporter": "python",
   "pygments_lexer": "ipython3",
   "version": "3.6.5"
  }
 },
 "nbformat": 4,
 "nbformat_minor": 2
}
